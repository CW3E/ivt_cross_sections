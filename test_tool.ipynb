{
 "cells": [
  {
   "cell_type": "code",
   "execution_count": 1,
   "id": "4c2eda22-96f7-4d99-a366-34d45eddc23b",
   "metadata": {},
   "outputs": [
    {
     "name": "stderr",
     "output_type": "stream",
     "text": [
      "ERROR 1: PROJ: proj_create_from_database: Open of /home/dnash/miniconda3/envs/SEAK-impacts/share/proj failed\n"
     ]
    },
    {
     "name": "stdout",
     "output_type": "stream",
     "text": [
      "Creating ivt cross sections for GFS\n"
     ]
    }
   ],
   "source": [
    "import os\n",
    "import sys\n",
    "import numpy as np\n",
    "import pandas as pd\n",
    "from datetime import datetime\n",
    "import xarray as xr\n",
    "import multiprocessing\n",
    "\n",
    "from read_deterministic_data import load_GFS_datasets, load_ECMWF_datasets\n",
    "from plotter import plot_ivt_cross_sections\n",
    "from calc_funcs import format_timedelta_to_HHMMSS\n",
    "\n",
    "model_name = 'GFS' ## GFS or ECMWF\n",
    "print('Creating ivt cross sections for {0}'.format(model_name))\n",
    "\n",
    "## FIRST LOOP - LEAD TIME ##\n",
    "F_lst = np.arange(12, 24, 12)\n",
    "\n",
    "## create list that has the start and end points for the cross section\n",
    "lon_lst = np.arange(185., 260., 5.)\n",
    "line_lst = []\n",
    "for i, lon in enumerate(lon_lst):\n",
    "    ## create list of lines where [start_lat, start_lon, end_lat, end_lon]\n",
    "    line = [25., lon, 65., lon]\n",
    "    line_lst.append(line)\n",
    "\n"
   ]
  },
  {
   "cell_type": "code",
   "execution_count": 2,
   "id": "5a05b730-6a7f-4887-9182-b8805306b2f5",
   "metadata": {},
   "outputs": [
    {
     "name": "stdout",
     "output_type": "stream",
     "text": [
      "... Loading GFS data for 12 hour lead\n"
     ]
    },
    {
     "name": "stderr",
     "output_type": "stream",
     "text": [
      "/home/dnash/miniconda3/envs/SEAK-impacts/lib/python3.12/site-packages/xarray/backends/plugins.py:80: RuntimeWarning: Engine 'gini' loading failed:\n",
      "Struct() takes at most 1 argument (3 given)\n",
      "  warnings.warn(f\"Engine {name!r} loading failed:\\n{ex}\", RuntimeWarning)\n"
     ]
    },
    {
     "name": "stdout",
     "output_type": "stream",
     "text": [
      "CPU times: user 17.4 s, sys: 38.8 s, total: 56.1 s\n",
      "Wall time: 58.5 s\n"
     ]
    }
   ],
   "source": [
    "%%time\n",
    "for i, F in enumerate(F_lst):\n",
    "    start_time = pd.Timestamp.today()\n",
    "    #######################\n",
    "    ### LOAD MODEL DATA ###\n",
    "    #######################\n",
    "    print('... Loading {0} data for {1} hour lead'.format(model_name, F))\n",
    "    if model_name == 'ECMWF':\n",
    "        s = load_ECMWF_datasets(F=F, fdate=None)\n",
    "        model_data= s.calc_vars()\n",
    "\n",
    "    elif model_name == 'GFS':\n",
    "        s = load_GFS_datasets(F=F, fdate='2024090312')\n",
    "        model_data= s.calc_vars()\n",
    "        \n",
    "    model_data\n",
    "    ## write intermediate data files\n",
    "    out_fname = '/home/dnash/comet_data/tmp/tmp_{0}_{1}.nc'.format(model_name, F)\n",
    "    model_data.to_netcdf(path=out_fname, mode = 'w', format='NETCDF4')"
   ]
  },
  {
   "cell_type": "code",
   "execution_count": 3,
   "id": "b4bc4011-76e5-46e6-b65d-72ac417c2e1b",
   "metadata": {},
   "outputs": [
    {
     "name": "stdout",
     "output_type": "stream",
     "text": [
      "... Loading intermediate GFS data for 12 hour lead\n",
      "Plots for 12 lead took 0:00:00 to run\n",
      "CPU times: user 91 ms, sys: 283 ms, total: 374 ms\n",
      "Wall time: 382 ms\n"
     ]
    },
    {
     "name": "stderr",
     "output_type": "stream",
     "text": [
      "/home/dnash/miniconda3/envs/SEAK-impacts/lib/python3.12/site-packages/matplotlib/ticker.py:2920: RuntimeWarning: invalid value encountered in log10\n",
      "  majorstep_no_exponent = 10 ** (np.log10(majorstep) % 1)\n",
      "/home/dnash/miniconda3/envs/SEAK-impacts/lib/python3.12/site-packages/matplotlib/ticker.py:2920: RuntimeWarning: invalid value encountered in log10\n",
      "  majorstep_no_exponent = 10 ** (np.log10(majorstep) % 1)\n",
      "/home/dnash/miniconda3/envs/SEAK-impacts/lib/python3.12/site-packages/matplotlib/ticker.py:2920: RuntimeWarning: invalid value encountered in log10\n",
      "  majorstep_no_exponent = 10 ** (np.log10(majorstep) % 1)\n",
      "/home/dnash/miniconda3/envs/SEAK-impacts/lib/python3.12/site-packages/matplotlib/ticker.py:2920: RuntimeWarning: invalid value encountered in log10\n",
      "  majorstep_no_exponent = 10 ** (np.log10(majorstep) % 1)\n",
      "/home/dnash/miniconda3/envs/SEAK-impacts/lib/python3.12/site-packages/matplotlib/ticker.py:2920: RuntimeWarning: invalid value encountered in log10\n",
      "  majorstep_no_exponent = 10 ** (np.log10(majorstep) % 1)\n",
      "/home/dnash/miniconda3/envs/SEAK-impacts/lib/python3.12/site-packages/matplotlib/ticker.py:2920: RuntimeWarning: invalid value encountered in log10\n",
      "  majorstep_no_exponent = 10 ** (np.log10(majorstep) % 1)\n",
      "/home/dnash/miniconda3/envs/SEAK-impacts/lib/python3.12/site-packages/matplotlib/ticker.py:2920: RuntimeWarning: invalid value encountered in log10\n",
      "  majorstep_no_exponent = 10 ** (np.log10(majorstep) % 1)\n",
      "/home/dnash/miniconda3/envs/SEAK-impacts/lib/python3.12/site-packages/matplotlib/ticker.py:2920: RuntimeWarning: invalid value encountered in log10\n",
      "  majorstep_no_exponent = 10 ** (np.log10(majorstep) % 1)\n",
      "/home/dnash/miniconda3/envs/SEAK-impacts/lib/python3.12/site-packages/matplotlib/ticker.py:2920: RuntimeWarning: invalid value encountered in log10\n",
      "  majorstep_no_exponent = 10 ** (np.log10(majorstep) % 1)\n",
      "/home/dnash/miniconda3/envs/SEAK-impacts/lib/python3.12/site-packages/matplotlib/ticker.py:2920: RuntimeWarning: invalid value encountered in log10\n",
      "  majorstep_no_exponent = 10 ** (np.log10(majorstep) % 1)\n",
      "/home/dnash/miniconda3/envs/SEAK-impacts/lib/python3.12/site-packages/matplotlib/ticker.py:2920: RuntimeWarning: invalid value encountered in log10\n",
      "  majorstep_no_exponent = 10 ** (np.log10(majorstep) % 1)\n",
      "/home/dnash/miniconda3/envs/SEAK-impacts/lib/python3.12/site-packages/matplotlib/ticker.py:2920: RuntimeWarning: invalid value encountered in log10\n",
      "  majorstep_no_exponent = 10 ** (np.log10(majorstep) % 1)\n",
      "/home/dnash/miniconda3/envs/SEAK-impacts/lib/python3.12/site-packages/matplotlib/ticker.py:2920: RuntimeWarning: invalid value encountered in log10\n",
      "  majorstep_no_exponent = 10 ** (np.log10(majorstep) % 1)\n",
      "/home/dnash/miniconda3/envs/SEAK-impacts/lib/python3.12/site-packages/matplotlib/ticker.py:2920: RuntimeWarning: invalid value encountered in log10\n",
      "  majorstep_no_exponent = 10 ** (np.log10(majorstep) % 1)\n",
      "/home/dnash/miniconda3/envs/SEAK-impacts/lib/python3.12/site-packages/matplotlib/ticker.py:2920: RuntimeWarning: invalid value encountered in log10\n",
      "  majorstep_no_exponent = 10 ** (np.log10(majorstep) % 1)\n",
      "/home/dnash/miniconda3/envs/SEAK-impacts/lib/python3.12/site-packages/matplotlib/ticker.py:2920: RuntimeWarning: invalid value encountered in log10\n",
      "  majorstep_no_exponent = 10 ** (np.log10(majorstep) % 1)\n",
      "/home/dnash/miniconda3/envs/SEAK-impacts/lib/python3.12/site-packages/matplotlib/ticker.py:2920: RuntimeWarning: invalid value encountered in log10\n",
      "  majorstep_no_exponent = 10 ** (np.log10(majorstep) % 1)\n",
      "/home/dnash/miniconda3/envs/SEAK-impacts/lib/python3.12/site-packages/matplotlib/ticker.py:2920: RuntimeWarning: invalid value encountered in log10\n",
      "  majorstep_no_exponent = 10 ** (np.log10(majorstep) % 1)\n",
      "/home/dnash/miniconda3/envs/SEAK-impacts/lib/python3.12/site-packages/matplotlib/ticker.py:2920: RuntimeWarning: invalid value encountered in log10\n",
      "  majorstep_no_exponent = 10 ** (np.log10(majorstep) % 1)\n",
      "/home/dnash/miniconda3/envs/SEAK-impacts/lib/python3.12/site-packages/matplotlib/ticker.py:2920: RuntimeWarning: invalid value encountered in log10\n",
      "  majorstep_no_exponent = 10 ** (np.log10(majorstep) % 1)\n",
      "/home/dnash/miniconda3/envs/SEAK-impacts/lib/python3.12/site-packages/matplotlib/ticker.py:2920: RuntimeWarning: invalid value encountered in log10\n",
      "  majorstep_no_exponent = 10 ** (np.log10(majorstep) % 1)\n",
      "/home/dnash/miniconda3/envs/SEAK-impacts/lib/python3.12/site-packages/matplotlib/ticker.py:2920: RuntimeWarning: invalid value encountered in log10\n",
      "  majorstep_no_exponent = 10 ** (np.log10(majorstep) % 1)\n",
      "/home/dnash/miniconda3/envs/SEAK-impacts/lib/python3.12/site-packages/matplotlib/ticker.py:2920: RuntimeWarning: invalid value encountered in log10\n",
      "  majorstep_no_exponent = 10 ** (np.log10(majorstep) % 1)\n",
      "/home/dnash/miniconda3/envs/SEAK-impacts/lib/python3.12/site-packages/matplotlib/ticker.py:2920: RuntimeWarning: invalid value encountered in log10\n",
      "  majorstep_no_exponent = 10 ** (np.log10(majorstep) % 1)\n",
      "/home/dnash/miniconda3/envs/SEAK-impacts/lib/python3.12/site-packages/matplotlib/ticker.py:2920: RuntimeWarning: invalid value encountered in log10\n",
      "  majorstep_no_exponent = 10 ** (np.log10(majorstep) % 1)\n",
      "/home/dnash/miniconda3/envs/SEAK-impacts/lib/python3.12/site-packages/matplotlib/ticker.py:2920: RuntimeWarning: invalid value encountered in log10\n",
      "  majorstep_no_exponent = 10 ** (np.log10(majorstep) % 1)\n",
      "/home/dnash/miniconda3/envs/SEAK-impacts/lib/python3.12/site-packages/matplotlib/ticker.py:2920: RuntimeWarning: invalid value encountered in log10\n",
      "  majorstep_no_exponent = 10 ** (np.log10(majorstep) % 1)\n",
      "/home/dnash/miniconda3/envs/SEAK-impacts/lib/python3.12/site-packages/matplotlib/ticker.py:2920: RuntimeWarning: invalid value encountered in log10\n",
      "  majorstep_no_exponent = 10 ** (np.log10(majorstep) % 1)\n",
      "/home/dnash/miniconda3/envs/SEAK-impacts/lib/python3.12/site-packages/matplotlib/ticker.py:2920: RuntimeWarning: invalid value encountered in log10\n",
      "  majorstep_no_exponent = 10 ** (np.log10(majorstep) % 1)\n",
      "/home/dnash/miniconda3/envs/SEAK-impacts/lib/python3.12/site-packages/matplotlib/ticker.py:2920: RuntimeWarning: invalid value encountered in log10\n",
      "  majorstep_no_exponent = 10 ** (np.log10(majorstep) % 1)\n"
     ]
    }
   ],
   "source": [
    "%%time\n",
    "def multiP(model_data, line_lst, F):\n",
    "    ## SECOND LOOP - LOOP THROUGH LONGITUDE FOR CROSS SECTION ##\n",
    "    for k, current_line in enumerate(line_lst):\n",
    "        ## subset vertical data and IVT data to current line\n",
    "        if model_name == 'ECMWF':\n",
    "            cross = model_data.sel(latitude = slice(current_line[2]+0.1, current_line[0]-0.1))\n",
    "            cross = cross.sel(longitude=current_line[1], method='nearest')\n",
    "        elif model_name == 'GFS':\n",
    "            cross = model_data.sel(latitude = slice(current_line[2], current_line[0]), longitude=current_line[1])\n",
    "\n",
    "        cross = cross.sortby('latitude')\n",
    "        \n",
    "        ### Create Plots\n",
    "        p = multiprocessing.Process(target=plot_ivt_cross_sections, args=(model_data, cross, line_lst, current_line, model_name, F))\n",
    "        p.start()\n",
    "\n",
    "\n",
    "        \n",
    "for i, F in enumerate(F_lst):\n",
    "    start_time = pd.Timestamp.today()\n",
    "    #######################\n",
    "    ### LOAD MODEL DATA ###\n",
    "    #######################\n",
    "    print('... Loading intermediate {0} data for {1} hour lead'.format(model_name, F))\n",
    "    out_fname = '/home/dnash/comet_data/tmp/tmp_{0}_{1}.nc'.format(model_name, F)\n",
    "    model_data = xr.open_dataset(out_fname, engine='netcdf4')\n",
    "        \n",
    "    if __name__ == \"__main__\": \n",
    "        multiP(model_data, line_lst, F)\n",
    "    \n",
    "        \n",
    "    end_time = pd.Timestamp.today()\n",
    "    td = end_time - start_time\n",
    "    td = format_timedelta_to_HHMMSS(td)\n",
    "    print('Plots for {0} lead took {1} to run'.format(F, td))\n",
    "    model_data.close() ## close data\n",
    "        "
   ]
  },
  {
   "cell_type": "code",
   "execution_count": 8,
   "id": "4a854169-1d26-4243-b82b-5f504d36e711",
   "metadata": {},
   "outputs": [
    {
     "name": "stdout",
     "output_type": "stream",
     "text": [
      "... Loading intermediate GFS data for 12 hour lead\n",
      "...... Creating figure for 185.0\n"
     ]
    },
    {
     "name": "stderr",
     "output_type": "stream",
     "text": [
      "/home/dnash/miniconda3/envs/SEAK-impacts/lib/python3.12/site-packages/matplotlib/ticker.py:2920: RuntimeWarning: invalid value encountered in log10\n",
      "  majorstep_no_exponent = 10 ** (np.log10(majorstep) % 1)\n",
      "/home/dnash/miniconda3/envs/SEAK-impacts/lib/python3.12/site-packages/matplotlib/ticker.py:2920: RuntimeWarning: invalid value encountered in log10\n",
      "  majorstep_no_exponent = 10 ** (np.log10(majorstep) % 1)\n"
     ]
    },
    {
     "name": "stdout",
     "output_type": "stream",
     "text": [
      "...... Creating figure for 190.0\n"
     ]
    },
    {
     "name": "stderr",
     "output_type": "stream",
     "text": [
      "/home/dnash/miniconda3/envs/SEAK-impacts/lib/python3.12/site-packages/matplotlib/ticker.py:2920: RuntimeWarning: invalid value encountered in log10\n",
      "  majorstep_no_exponent = 10 ** (np.log10(majorstep) % 1)\n",
      "/home/dnash/miniconda3/envs/SEAK-impacts/lib/python3.12/site-packages/matplotlib/ticker.py:2920: RuntimeWarning: invalid value encountered in log10\n",
      "  majorstep_no_exponent = 10 ** (np.log10(majorstep) % 1)\n"
     ]
    },
    {
     "name": "stdout",
     "output_type": "stream",
     "text": [
      "...... Creating figure for 195.0\n"
     ]
    },
    {
     "ename": "KeyboardInterrupt",
     "evalue": "",
     "output_type": "error",
     "traceback": [
      "\u001b[0;31m---------------------------------------------------------------------------\u001b[0m",
      "\u001b[0;31mKeyboardInterrupt\u001b[0m                         Traceback (most recent call last)",
      "File \u001b[0;32m<timed exec>:22\u001b[0m\n",
      "File \u001b[0;32m~/repos/ivt_cross_sections/plotter.py:300\u001b[0m, in \u001b[0;36mplot_ivt_cross_sections\u001b[0;34m(ds, cross, line_lst, current_line, model_name, F)\u001b[0m\n\u001b[1;32m    297\u001b[0m cf \u001b[38;5;241m=\u001b[39m ax\u001b[38;5;241m.\u001b[39mcontourf(lons, lats, data, transform\u001b[38;5;241m=\u001b[39mdatacrs, levels\u001b[38;5;241m=\u001b[39mbnds, cmap\u001b[38;5;241m=\u001b[39mcmap, norm\u001b[38;5;241m=\u001b[39mnorm, alpha\u001b[38;5;241m=\u001b[39m\u001b[38;5;241m0.9\u001b[39m)\n\u001b[1;32m    299\u001b[0m \u001b[38;5;66;03m## contour lines (IVT)\u001b[39;00m\n\u001b[0;32m--> 300\u001b[0m cs \u001b[38;5;241m=\u001b[39m \u001b[43max\u001b[49m\u001b[38;5;241;43m.\u001b[39;49m\u001b[43mcontour\u001b[49m\u001b[43m(\u001b[49m\u001b[43mlons\u001b[49m\u001b[43m,\u001b[49m\u001b[43m \u001b[49m\u001b[43mlats\u001b[49m\u001b[43m,\u001b[49m\u001b[43m \u001b[49m\u001b[43mdata\u001b[49m\u001b[43m,\u001b[49m\u001b[43m \u001b[49m\u001b[43mtransform\u001b[49m\u001b[38;5;241;43m=\u001b[39;49m\u001b[43mdatacrs\u001b[49m\u001b[43m,\u001b[49m\u001b[43m \u001b[49m\u001b[43mlevels\u001b[49m\u001b[38;5;241;43m=\u001b[39;49m\u001b[43mbnds\u001b[49m\u001b[43m,\u001b[49m\u001b[43m \u001b[49m\u001b[43mcolors\u001b[49m\u001b[38;5;241;43m=\u001b[39;49m\u001b[43m[\u001b[49m\u001b[38;5;124;43m'\u001b[39;49m\u001b[38;5;124;43mblack\u001b[39;49m\u001b[38;5;124;43m'\u001b[39;49m\u001b[43m]\u001b[49m\u001b[43m,\u001b[49m\u001b[43m \u001b[49m\u001b[43mlinewidths\u001b[49m\u001b[38;5;241;43m=\u001b[39;49m\u001b[38;5;241;43m0.3\u001b[39;49m\u001b[43m,\u001b[49m\u001b[43m \u001b[49m\u001b[43malpha\u001b[49m\u001b[38;5;241;43m=\u001b[39;49m\u001b[38;5;241;43m0.9\u001b[39;49m\u001b[43m,\u001b[49m\u001b[43m \u001b[49m\u001b[43mzorder\u001b[49m\u001b[38;5;241;43m=\u001b[39;49m\u001b[38;5;241;43m100\u001b[39;49m\u001b[43m)\u001b[49m\n\u001b[1;32m    302\u001b[0m \u001b[38;5;66;03m## black lines where possible cross sections are\u001b[39;00m\n\u001b[1;32m    303\u001b[0m \u001b[38;5;28;01mfor\u001b[39;00m i, line \u001b[38;5;129;01min\u001b[39;00m \u001b[38;5;28menumerate\u001b[39m(line_lst):\n",
      "File \u001b[0;32m~/miniconda3/envs/SEAK-impacts/lib/python3.12/site-packages/cartopy/mpl/geoaxes.py:315\u001b[0m, in \u001b[0;36m_add_transform.<locals>.wrapper\u001b[0;34m(self, *args, **kwargs)\u001b[0m\n\u001b[1;32m    310\u001b[0m     \u001b[38;5;28;01mraise\u001b[39;00m \u001b[38;5;167;01mValueError\u001b[39;00m(\u001b[38;5;124mf\u001b[39m\u001b[38;5;124m'\u001b[39m\u001b[38;5;124mInvalid transform: Spherical \u001b[39m\u001b[38;5;132;01m{\u001b[39;00mfunc\u001b[38;5;241m.\u001b[39m\u001b[38;5;18m__name__\u001b[39m\u001b[38;5;132;01m}\u001b[39;00m\u001b[38;5;124m \u001b[39m\u001b[38;5;124m'\u001b[39m\n\u001b[1;32m    311\u001b[0m                      \u001b[38;5;124m'\u001b[39m\u001b[38;5;124mis not supported - consider using \u001b[39m\u001b[38;5;124m'\u001b[39m\n\u001b[1;32m    312\u001b[0m                      \u001b[38;5;124m'\u001b[39m\u001b[38;5;124mPlateCarree/RotatedPole.\u001b[39m\u001b[38;5;124m'\u001b[39m)\n\u001b[1;32m    314\u001b[0m kwargs[\u001b[38;5;124m'\u001b[39m\u001b[38;5;124mtransform\u001b[39m\u001b[38;5;124m'\u001b[39m] \u001b[38;5;241m=\u001b[39m transform\n\u001b[0;32m--> 315\u001b[0m \u001b[38;5;28;01mreturn\u001b[39;00m \u001b[43mfunc\u001b[49m\u001b[43m(\u001b[49m\u001b[38;5;28;43mself\u001b[39;49m\u001b[43m,\u001b[49m\u001b[43m \u001b[49m\u001b[38;5;241;43m*\u001b[39;49m\u001b[43margs\u001b[49m\u001b[43m,\u001b[49m\u001b[43m \u001b[49m\u001b[38;5;241;43m*\u001b[39;49m\u001b[38;5;241;43m*\u001b[39;49m\u001b[43mkwargs\u001b[49m\u001b[43m)\u001b[49m\n",
      "File \u001b[0;32m~/miniconda3/envs/SEAK-impacts/lib/python3.12/site-packages/cartopy/mpl/geoaxes.py:359\u001b[0m, in \u001b[0;36m_add_transform_first.<locals>.wrapper\u001b[0;34m(self, *args, **kwargs)\u001b[0m\n\u001b[1;32m    357\u001b[0m     \u001b[38;5;66;03m# Use the new points as the input arguments\u001b[39;00m\n\u001b[1;32m    358\u001b[0m     args \u001b[38;5;241m=\u001b[39m (x, y, z) \u001b[38;5;241m+\u001b[39m args[\u001b[38;5;241m3\u001b[39m:]\n\u001b[0;32m--> 359\u001b[0m \u001b[38;5;28;01mreturn\u001b[39;00m \u001b[43mfunc\u001b[49m\u001b[43m(\u001b[49m\u001b[38;5;28;43mself\u001b[39;49m\u001b[43m,\u001b[49m\u001b[43m \u001b[49m\u001b[38;5;241;43m*\u001b[39;49m\u001b[43margs\u001b[49m\u001b[43m,\u001b[49m\u001b[43m \u001b[49m\u001b[38;5;241;43m*\u001b[39;49m\u001b[38;5;241;43m*\u001b[39;49m\u001b[43mkwargs\u001b[49m\u001b[43m)\u001b[49m\n",
      "File \u001b[0;32m~/miniconda3/envs/SEAK-impacts/lib/python3.12/site-packages/cartopy/mpl/geoaxes.py:1615\u001b[0m, in \u001b[0;36mGeoAxes.contour\u001b[0;34m(self, *args, **kwargs)\u001b[0m\n\u001b[1;32m   1613\u001b[0m         \u001b[38;5;28mself\u001b[39m\u001b[38;5;241m.\u001b[39mupdate_datalim(extent\u001b[38;5;241m.\u001b[39mget_points())\n\u001b[1;32m   1614\u001b[0m \u001b[38;5;28;01melse\u001b[39;00m:\n\u001b[0;32m-> 1615\u001b[0m     \u001b[38;5;28mself\u001b[39m\u001b[38;5;241m.\u001b[39mupdate_datalim(\u001b[43mresult\u001b[49m\u001b[38;5;241;43m.\u001b[39;49m\u001b[43mget_datalim\u001b[49m\u001b[43m(\u001b[49m\u001b[38;5;28;43mself\u001b[39;49m\u001b[38;5;241;43m.\u001b[39;49m\u001b[43mtransData\u001b[49m\u001b[43m)\u001b[49m)\n\u001b[1;32m   1617\u001b[0m \u001b[38;5;28mself\u001b[39m\u001b[38;5;241m.\u001b[39mautoscale_view()\n\u001b[1;32m   1619\u001b[0m \u001b[38;5;66;03m# Re-cast the contour as a GeoContourSet.\u001b[39;00m\n",
      "File \u001b[0;32m~/miniconda3/envs/SEAK-impacts/lib/python3.12/site-packages/matplotlib/collections.py:267\u001b[0m, in \u001b[0;36mCollection.get_datalim\u001b[0;34m(self, transData)\u001b[0m\n\u001b[1;32m    264\u001b[0m     \u001b[38;5;28;01mreturn\u001b[39;00m transforms\u001b[38;5;241m.\u001b[39mBbox\u001b[38;5;241m.\u001b[39mnull()\n\u001b[1;32m    266\u001b[0m \u001b[38;5;28;01mif\u001b[39;00m \u001b[38;5;129;01mnot\u001b[39;00m transform\u001b[38;5;241m.\u001b[39mis_affine:\n\u001b[0;32m--> 267\u001b[0m     paths \u001b[38;5;241m=\u001b[39m [\u001b[43mtransform\u001b[49m\u001b[38;5;241;43m.\u001b[39;49m\u001b[43mtransform_path_non_affine\u001b[49m\u001b[43m(\u001b[49m\u001b[43mp\u001b[49m\u001b[43m)\u001b[49m \u001b[38;5;28;01mfor\u001b[39;00m p \u001b[38;5;129;01min\u001b[39;00m paths]\n\u001b[1;32m    268\u001b[0m     \u001b[38;5;66;03m# Don't convert transform to transform.get_affine() here because\u001b[39;00m\n\u001b[1;32m    269\u001b[0m     \u001b[38;5;66;03m# we may have transform.contains_branch(transData) but not\u001b[39;00m\n\u001b[1;32m    270\u001b[0m     \u001b[38;5;66;03m# transforms.get_affine().contains_branch(transData).  But later,\u001b[39;00m\n\u001b[1;32m    271\u001b[0m     \u001b[38;5;66;03m# be careful to only apply the affine part that remains.\u001b[39;00m\n\u001b[1;32m    273\u001b[0m offsets \u001b[38;5;241m=\u001b[39m \u001b[38;5;28mself\u001b[39m\u001b[38;5;241m.\u001b[39mget_offsets()\n",
      "File \u001b[0;32m~/miniconda3/envs/SEAK-impacts/lib/python3.12/site-packages/matplotlib/transforms.py:2426\u001b[0m, in \u001b[0;36mCompositeGenericTransform.transform_path_non_affine\u001b[0;34m(self, path)\u001b[0m\n\u001b[1;32m   2424\u001b[0m     \u001b[38;5;28;01mreturn\u001b[39;00m path\n\u001b[1;32m   2425\u001b[0m \u001b[38;5;28;01melif\u001b[39;00m \u001b[38;5;129;01mnot\u001b[39;00m \u001b[38;5;28mself\u001b[39m\u001b[38;5;241m.\u001b[39m_a\u001b[38;5;241m.\u001b[39mis_affine \u001b[38;5;129;01mand\u001b[39;00m \u001b[38;5;28mself\u001b[39m\u001b[38;5;241m.\u001b[39m_b\u001b[38;5;241m.\u001b[39mis_affine:\n\u001b[0;32m-> 2426\u001b[0m     \u001b[38;5;28;01mreturn\u001b[39;00m \u001b[38;5;28;43mself\u001b[39;49m\u001b[38;5;241;43m.\u001b[39;49m\u001b[43m_a\u001b[49m\u001b[38;5;241;43m.\u001b[39;49m\u001b[43mtransform_path_non_affine\u001b[49m\u001b[43m(\u001b[49m\u001b[43mpath\u001b[49m\u001b[43m)\u001b[49m\n\u001b[1;32m   2427\u001b[0m \u001b[38;5;28;01melse\u001b[39;00m:\n\u001b[1;32m   2428\u001b[0m     \u001b[38;5;28;01mreturn\u001b[39;00m \u001b[38;5;28mself\u001b[39m\u001b[38;5;241m.\u001b[39m_b\u001b[38;5;241m.\u001b[39mtransform_path_non_affine(\n\u001b[1;32m   2429\u001b[0m                             \u001b[38;5;28mself\u001b[39m\u001b[38;5;241m.\u001b[39m_a\u001b[38;5;241m.\u001b[39mtransform_path(path))\n",
      "File \u001b[0;32m~/miniconda3/envs/SEAK-impacts/lib/python3.12/site-packages/cartopy/mpl/geoaxes.py:186\u001b[0m, in \u001b[0;36mInterProjectionTransform.transform_path_non_affine\u001b[0;34m(self, src_path)\u001b[0m\n\u001b[1;32m    182\u001b[0m geoms \u001b[38;5;241m=\u001b[39m cpatch\u001b[38;5;241m.\u001b[39mpath_to_geos(src_path,\n\u001b[1;32m    183\u001b[0m                             \u001b[38;5;28mgetattr\u001b[39m(\u001b[38;5;28mself\u001b[39m, \u001b[38;5;124m'\u001b[39m\u001b[38;5;124mforce_path_ccw\u001b[39m\u001b[38;5;124m'\u001b[39m, \u001b[38;5;28;01mFalse\u001b[39;00m))\n\u001b[1;32m    185\u001b[0m \u001b[38;5;28;01mfor\u001b[39;00m geom \u001b[38;5;129;01min\u001b[39;00m geoms:\n\u001b[0;32m--> 186\u001b[0m     proj_geom \u001b[38;5;241m=\u001b[39m \u001b[38;5;28;43mself\u001b[39;49m\u001b[38;5;241;43m.\u001b[39;49m\u001b[43mtarget_projection\u001b[49m\u001b[38;5;241;43m.\u001b[39;49m\u001b[43mproject_geometry\u001b[49m\u001b[43m(\u001b[49m\n\u001b[1;32m    187\u001b[0m \u001b[43m        \u001b[49m\u001b[43mgeom\u001b[49m\u001b[43m,\u001b[49m\u001b[43m \u001b[49m\u001b[38;5;28;43mself\u001b[39;49m\u001b[38;5;241;43m.\u001b[39;49m\u001b[43msource_projection\u001b[49m\u001b[43m)\u001b[49m\n\u001b[1;32m    188\u001b[0m     transformed_geoms\u001b[38;5;241m.\u001b[39mappend(proj_geom)\n\u001b[1;32m    190\u001b[0m \u001b[38;5;28;01mif\u001b[39;00m \u001b[38;5;129;01mnot\u001b[39;00m transformed_geoms:\n",
      "File \u001b[0;32m~/miniconda3/envs/SEAK-impacts/lib/python3.12/site-packages/cartopy/crs.py:817\u001b[0m, in \u001b[0;36mProjection.project_geometry\u001b[0;34m(self, geometry, src_crs)\u001b[0m\n\u001b[1;32m    815\u001b[0m \u001b[38;5;28;01mif\u001b[39;00m \u001b[38;5;129;01mnot\u001b[39;00m method_name:\n\u001b[1;32m    816\u001b[0m     \u001b[38;5;28;01mraise\u001b[39;00m \u001b[38;5;167;01mValueError\u001b[39;00m(\u001b[38;5;124mf\u001b[39m\u001b[38;5;124m'\u001b[39m\u001b[38;5;124mUnsupported geometry type \u001b[39m\u001b[38;5;132;01m{\u001b[39;00mgeom_type\u001b[38;5;132;01m!r}\u001b[39;00m\u001b[38;5;124m'\u001b[39m)\n\u001b[0;32m--> 817\u001b[0m \u001b[38;5;28;01mreturn\u001b[39;00m \u001b[38;5;28;43mgetattr\u001b[39;49m\u001b[43m(\u001b[49m\u001b[38;5;28;43mself\u001b[39;49m\u001b[43m,\u001b[49m\u001b[43m \u001b[49m\u001b[43mmethod_name\u001b[49m\u001b[43m)\u001b[49m\u001b[43m(\u001b[49m\u001b[43mgeometry\u001b[49m\u001b[43m,\u001b[49m\u001b[43m \u001b[49m\u001b[43msrc_crs\u001b[49m\u001b[43m)\u001b[49m\n",
      "File \u001b[0;32m~/miniconda3/envs/SEAK-impacts/lib/python3.12/site-packages/cartopy/crs.py:960\u001b[0m, in \u001b[0;36mProjection._project_polygon\u001b[0;34m(self, polygon, src_crs)\u001b[0m\n\u001b[1;32m    958\u001b[0m multi_lines \u001b[38;5;241m=\u001b[39m []\n\u001b[1;32m    959\u001b[0m \u001b[38;5;28;01mfor\u001b[39;00m src_ring \u001b[38;5;129;01min\u001b[39;00m [polygon\u001b[38;5;241m.\u001b[39mexterior] \u001b[38;5;241m+\u001b[39m \u001b[38;5;28mlist\u001b[39m(polygon\u001b[38;5;241m.\u001b[39minteriors):\n\u001b[0;32m--> 960\u001b[0m     p_rings, p_mline \u001b[38;5;241m=\u001b[39m \u001b[38;5;28;43mself\u001b[39;49m\u001b[38;5;241;43m.\u001b[39;49m\u001b[43m_project_linear_ring\u001b[49m\u001b[43m(\u001b[49m\u001b[43msrc_ring\u001b[49m\u001b[43m,\u001b[49m\u001b[43m \u001b[49m\u001b[43msrc_crs\u001b[49m\u001b[43m)\u001b[49m\n\u001b[1;32m    961\u001b[0m     \u001b[38;5;28;01mif\u001b[39;00m p_rings:\n\u001b[1;32m    962\u001b[0m         rings\u001b[38;5;241m.\u001b[39mextend(p_rings)\n",
      "File \u001b[0;32m~/miniconda3/envs/SEAK-impacts/lib/python3.12/site-packages/cartopy/crs.py:836\u001b[0m, in \u001b[0;36mProjection._project_linear_ring\u001b[0;34m(self, linear_ring, src_crs)\u001b[0m\n\u001b[1;32m    831\u001b[0m debug \u001b[38;5;241m=\u001b[39m \u001b[38;5;28;01mFalse\u001b[39;00m\n\u001b[1;32m    832\u001b[0m \u001b[38;5;66;03m# 1) Resolve the initial lines into projected segments\u001b[39;00m\n\u001b[1;32m    833\u001b[0m \u001b[38;5;66;03m# 1abc\u001b[39;00m\n\u001b[1;32m    834\u001b[0m \u001b[38;5;66;03m# def23ghi\u001b[39;00m\n\u001b[1;32m    835\u001b[0m \u001b[38;5;66;03m# jkl41\u001b[39;00m\n\u001b[0;32m--> 836\u001b[0m multi_line_string \u001b[38;5;241m=\u001b[39m \u001b[43mcartopy\u001b[49m\u001b[38;5;241;43m.\u001b[39;49m\u001b[43mtrace\u001b[49m\u001b[38;5;241;43m.\u001b[39;49m\u001b[43mproject_linear\u001b[49m\u001b[43m(\u001b[49m\u001b[43mlinear_ring\u001b[49m\u001b[43m,\u001b[49m\n\u001b[1;32m    837\u001b[0m \u001b[43m                                                 \u001b[49m\u001b[43msrc_crs\u001b[49m\u001b[43m,\u001b[49m\u001b[43m \u001b[49m\u001b[38;5;28;43mself\u001b[39;49m\u001b[43m)\u001b[49m\n\u001b[1;32m    839\u001b[0m \u001b[38;5;66;03m# Threshold for whether a point is close enough to be the same\u001b[39;00m\n\u001b[1;32m    840\u001b[0m \u001b[38;5;66;03m# point as another.\u001b[39;00m\n\u001b[1;32m    841\u001b[0m threshold \u001b[38;5;241m=\u001b[39m \u001b[38;5;28mmax\u001b[39m(np\u001b[38;5;241m.\u001b[39mabs(\u001b[38;5;28mself\u001b[39m\u001b[38;5;241m.\u001b[39mx_limits \u001b[38;5;241m+\u001b[39m \u001b[38;5;28mself\u001b[39m\u001b[38;5;241m.\u001b[39my_limits)) \u001b[38;5;241m*\u001b[39m \u001b[38;5;241m1e-5\u001b[39m\n",
      "File \u001b[0;32mlib/cartopy/trace.pyx:589\u001b[0m, in \u001b[0;36mcartopy.trace.project_linear\u001b[0;34m()\u001b[0m\n",
      "File \u001b[0;32mlib/cartopy/trace.pyx:483\u001b[0m, in \u001b[0;36mcartopy.trace._project_segment\u001b[0;34m()\u001b[0m\n",
      "File \u001b[0;32mlib/cartopy/trace.pyx:437\u001b[0m, in \u001b[0;36mcartopy.trace.bisect\u001b[0;34m()\u001b[0m\n",
      "File \u001b[0;32mlib/cartopy/trace.pyx:212\u001b[0m, in \u001b[0;36mcartopy.trace.CartesianInterpolator.interpolate\u001b[0;34m()\u001b[0m\n",
      "File \u001b[0;32mlib/cartopy/trace.pyx:137\u001b[0m, in \u001b[0;36mcartopy.trace.Interpolator.project\u001b[0;34m()\u001b[0m\n",
      "File \u001b[0;32m~/miniconda3/envs/SEAK-impacts/lib/python3.12/site-packages/pyproj/transformer.py:716\u001b[0m, in \u001b[0;36mTransformer.transform\u001b[0;34m(self, xx, yy, zz, tt, radians, errcheck, direction, inplace)\u001b[0m\n\u001b[1;32m    702\u001b[0m \u001b[38;5;129m@overload\u001b[39m\n\u001b[1;32m    703\u001b[0m \u001b[38;5;28;01mdef\u001b[39;00m \u001b[38;5;21mtransform\u001b[39m(  \u001b[38;5;66;03m# pylint: disable=invalid-name\u001b[39;00m\n\u001b[1;32m    704\u001b[0m     \u001b[38;5;28mself\u001b[39m,\n\u001b[0;32m   (...)\u001b[0m\n\u001b[1;32m    712\u001b[0m     inplace: \u001b[38;5;28mbool\u001b[39m \u001b[38;5;241m=\u001b[39m \u001b[38;5;28;01mFalse\u001b[39;00m,\n\u001b[1;32m    713\u001b[0m ) \u001b[38;5;241m-\u001b[39m\u001b[38;5;241m>\u001b[39m \u001b[38;5;28mtuple\u001b[39m[Any, Any, Any, Any]:\n\u001b[1;32m    714\u001b[0m     \u001b[38;5;241m.\u001b[39m\u001b[38;5;241m.\u001b[39m\u001b[38;5;241m.\u001b[39m\n\u001b[0;32m--> 716\u001b[0m \u001b[38;5;28;01mdef\u001b[39;00m \u001b[38;5;21mtransform\u001b[39m(  \u001b[38;5;66;03m# pylint: disable=invalid-name\u001b[39;00m\n\u001b[1;32m    717\u001b[0m     \u001b[38;5;28mself\u001b[39m,\n\u001b[1;32m    718\u001b[0m     xx,\n\u001b[1;32m    719\u001b[0m     yy,\n\u001b[1;32m    720\u001b[0m     zz\u001b[38;5;241m=\u001b[39m\u001b[38;5;28;01mNone\u001b[39;00m,\n\u001b[1;32m    721\u001b[0m     tt\u001b[38;5;241m=\u001b[39m\u001b[38;5;28;01mNone\u001b[39;00m,\n\u001b[1;32m    722\u001b[0m     radians\u001b[38;5;241m=\u001b[39m\u001b[38;5;28;01mFalse\u001b[39;00m,\n\u001b[1;32m    723\u001b[0m     errcheck\u001b[38;5;241m=\u001b[39m\u001b[38;5;28;01mFalse\u001b[39;00m,\n\u001b[1;32m    724\u001b[0m     direction\u001b[38;5;241m=\u001b[39mTransformDirection\u001b[38;5;241m.\u001b[39mFORWARD,\n\u001b[1;32m    725\u001b[0m     inplace\u001b[38;5;241m=\u001b[39m\u001b[38;5;28;01mFalse\u001b[39;00m,\n\u001b[1;32m    726\u001b[0m ):\n\u001b[1;32m    727\u001b[0m \u001b[38;5;250m    \u001b[39m\u001b[38;5;124;03m\"\"\"\u001b[39;00m\n\u001b[1;32m    728\u001b[0m \u001b[38;5;124;03m    Transform points between two coordinate systems.\u001b[39;00m\n\u001b[1;32m    729\u001b[0m \n\u001b[0;32m   (...)\u001b[0m\n\u001b[1;32m    816\u001b[0m \n\u001b[1;32m    817\u001b[0m \u001b[38;5;124;03m    \"\"\"\u001b[39;00m\n\u001b[1;32m    818\u001b[0m     \u001b[38;5;28;01mtry\u001b[39;00m:\n\u001b[1;32m    819\u001b[0m         \u001b[38;5;66;03m# function optimized for point data\u001b[39;00m\n",
      "\u001b[0;31mKeyboardInterrupt\u001b[0m: "
     ]
    }
   ],
   "source": [
    "%%time\n",
    "for i, F in enumerate(F_lst):\n",
    "    start_time = pd.Timestamp.today()\n",
    "    #######################\n",
    "    ### LOAD MODEL DATA ###\n",
    "    #######################\n",
    "    print('... Loading intermediate {0} data for {1} hour lead'.format(model_name, F))\n",
    "    out_fname = '/home/dnash/comet_data/tmp/tmp_{0}_{1}.nc'.format(model_name, F)\n",
    "    model_data = xr.open_dataset(out_fname, engine='netcdf4')\n",
    "    ## SECOND LOOP - LOOP THROUGH LONGITUDE FOR CROSS SECTION ##\n",
    "    for k, current_line in enumerate(line_lst):\n",
    "        ## subset vertical data and IVT data to current line\n",
    "        if model_name == 'ECMWF':\n",
    "            cross = model_data.sel(latitude = slice(current_line[2]+0.1, current_line[0]-0.1))\n",
    "            cross = cross.sel(longitude=current_line[1], method='nearest')\n",
    "        elif model_name == 'GFS':\n",
    "            cross = model_data.sel(latitude = slice(current_line[2], current_line[0]), longitude=current_line[1])\n",
    "\n",
    "        cross = cross.sortby('latitude')\n",
    "        \n",
    "        ### Create Plots\n",
    "        print('...... Creating figure for {0}'.format(current_line[1]))\n",
    "        plot_ivt_cross_sections(model_data, cross, line_lst, current_line, model_name, F)\n",
    "    end_time = pd.Timestamp.today()\n",
    "    td = end_time - start_time\n",
    "    td = format_timedelta_to_HHMMSS(td)\n",
    "    print('Plots for {0} lead took {1} to run'.format(F, td))\n",
    "    model_data.close() ## close data"
   ]
  },
  {
   "cell_type": "code",
   "execution_count": null,
   "id": "cbb34b99-64b1-404e-ad62-71cb7813ca87",
   "metadata": {},
   "outputs": [],
   "source": []
  }
 ],
 "metadata": {
  "kernelspec": {
   "display_name": "Python (SEAK-impacts)",
   "language": "python",
   "name": "seak-impacts"
  },
  "language_info": {
   "codemirror_mode": {
    "name": "ipython",
    "version": 3
   },
   "file_extension": ".py",
   "mimetype": "text/x-python",
   "name": "python",
   "nbconvert_exporter": "python",
   "pygments_lexer": "ipython3",
   "version": "3.12.0"
  }
 },
 "nbformat": 4,
 "nbformat_minor": 5
}
