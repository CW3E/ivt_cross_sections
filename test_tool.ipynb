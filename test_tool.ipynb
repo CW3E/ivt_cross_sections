{
 "cells": [
  {
   "cell_type": "code",
   "execution_count": 1,
   "id": "4c2eda22-96f7-4d99-a366-34d45eddc23b",
   "metadata": {},
   "outputs": [
    {
     "name": "stderr",
     "output_type": "stream",
     "text": [
      "ERROR 1: PROJ: proj_create_from_database: Open of /home/dnash/miniconda3/envs/SEAK-impacts/share/proj failed\n"
     ]
    },
    {
     "name": "stdout",
     "output_type": "stream",
     "text": [
      "Creating ivt cross sections for GFS\n"
     ]
    }
   ],
   "source": [
    "import os\n",
    "import sys\n",
    "import numpy as np\n",
    "import pandas as pd\n",
    "from datetime import datetime\n",
    "\n",
    "from read_deterministic_data import load_GFS_datasets, load_ECMWF_datasets\n",
    "from plotter import plot_ivt_cross_sections\n",
    "\n",
    "model_name = 'GFS' ## GFS or ECMWF\n",
    "print('Creating ivt cross sections for {0}'.format(model_name))\n",
    "\n",
    "## FIRST LOOP - LEAD TIME ##\n",
    "F_lst = np.arange(0, 132, 12)\n",
    "\n",
    "## create list that has the start and end points for the cross section\n",
    "lon_lst = np.arange(185., 260., 5.)\n",
    "line_lst = []\n",
    "for i, lon in enumerate(lon_lst):\n",
    "    ## create list of lines where [start_lat, start_lon, end_lat, end_lon]\n",
    "    line = [25., lon, 65., lon]\n",
    "    line_lst.append(line)\n",
    "\n"
   ]
  },
  {
   "cell_type": "code",
   "execution_count": 3,
   "id": "4a854169-1d26-4243-b82b-5f504d36e711",
   "metadata": {},
   "outputs": [
    {
     "name": "stdout",
     "output_type": "stream",
     "text": [
      "... Loading GFS data for 0 hour lead\n"
     ]
    },
    {
     "ename": "AttributeError",
     "evalue": "'load_GFS_datasets' object has no attribute 'fpath'",
     "output_type": "error",
     "traceback": [
      "\u001b[0;31m---------------------------------------------------------------------------\u001b[0m",
      "\u001b[0;31mAttributeError\u001b[0m                            Traceback (most recent call last)",
      "Cell \u001b[0;32mIn[3], line 12\u001b[0m\n\u001b[1;32m      9\u001b[0m     model_data\u001b[38;5;241m=\u001b[39m s\u001b[38;5;241m.\u001b[39mcalc_vars()\n\u001b[1;32m     11\u001b[0m \u001b[38;5;28;01melif\u001b[39;00m model_name \u001b[38;5;241m==\u001b[39m \u001b[38;5;124m'\u001b[39m\u001b[38;5;124mGFS\u001b[39m\u001b[38;5;124m'\u001b[39m:\n\u001b[0;32m---> 12\u001b[0m     s \u001b[38;5;241m=\u001b[39m \u001b[43mload_GFS_datasets\u001b[49m\u001b[43m(\u001b[49m\u001b[43mF\u001b[49m\u001b[38;5;241;43m=\u001b[39;49m\u001b[43mF\u001b[49m\u001b[43m,\u001b[49m\u001b[43m \u001b[49m\u001b[43mfdate\u001b[49m\u001b[38;5;241;43m=\u001b[39;49m\u001b[38;5;124;43m'\u001b[39;49m\u001b[38;5;124;43m2024072212\u001b[39;49m\u001b[38;5;124;43m'\u001b[39;49m\u001b[43m)\u001b[49m\n\u001b[1;32m     13\u001b[0m     model_data\u001b[38;5;241m=\u001b[39m s\u001b[38;5;241m.\u001b[39mcalc_vars()\n\u001b[1;32m     15\u001b[0m \u001b[38;5;66;03m## SECOND LOOP - LOOP THROUGH LONGITUDE FOR CROSS SECTION ##\u001b[39;00m\n",
      "File \u001b[0;32m~/repos/ivt_cross_sections/read_deterministic_data.py:235\u001b[0m, in \u001b[0;36mload_GFS_datasets.__init__\u001b[0;34m(self, F, fdate)\u001b[0m\n\u001b[1;32m    230\u001b[0m fname \u001b[38;5;241m=\u001b[39m \u001b[38;5;124m'\u001b[39m\u001b[38;5;124m/gfs_\u001b[39m\u001b[38;5;132;01m{0}\u001b[39;00m\u001b[38;5;124m_f\u001b[39m\u001b[38;5;132;01m{1}\u001b[39;00m\u001b[38;5;124m.grb\u001b[39m\u001b[38;5;124m'\u001b[39m\u001b[38;5;241m.\u001b[39mformat(\u001b[38;5;28mself\u001b[39m\u001b[38;5;241m.\u001b[39mdate_string, \u001b[38;5;28mstr\u001b[39m(\u001b[38;5;28mself\u001b[39m\u001b[38;5;241m.\u001b[39mF)\u001b[38;5;241m.\u001b[39mzfill(\u001b[38;5;241m3\u001b[39m))\n\u001b[1;32m    232\u001b[0m \u001b[38;5;66;03m## for now: copy the files to local space\u001b[39;00m\n\u001b[1;32m    233\u001b[0m \u001b[38;5;66;03m# repo_path = '/home/dnash/comet_data/tmp'\u001b[39;00m\n\u001b[1;32m    234\u001b[0m \u001b[38;5;66;03m# shutil.copy(self.fpath+fname, repo_path+fname) # copy file over to data folder\u001b[39;00m\n\u001b[0;32m--> 235\u001b[0m \u001b[38;5;28mself\u001b[39m\u001b[38;5;241m.\u001b[39mfname \u001b[38;5;241m=\u001b[39m \u001b[38;5;28;43mself\u001b[39;49m\u001b[38;5;241;43m.\u001b[39;49m\u001b[43mfpath\u001b[49m\u001b[38;5;241m+\u001b[39mfname\n\u001b[1;32m    237\u001b[0m \u001b[38;5;28mself\u001b[39m\u001b[38;5;241m.\u001b[39mmodel_init_date \u001b[38;5;241m=\u001b[39m datetime\u001b[38;5;241m.\u001b[39mdatetime\u001b[38;5;241m.\u001b[39mstrptime(\u001b[38;5;28mself\u001b[39m\u001b[38;5;241m.\u001b[39mdate_string, \u001b[38;5;124m'\u001b[39m\u001b[38;5;124m%\u001b[39m\u001b[38;5;124mY\u001b[39m\u001b[38;5;124m%\u001b[39m\u001b[38;5;124mm\u001b[39m\u001b[38;5;132;01m%d\u001b[39;00m\u001b[38;5;124m%\u001b[39m\u001b[38;5;124mH\u001b[39m\u001b[38;5;124m'\u001b[39m)\n",
      "\u001b[0;31mAttributeError\u001b[0m: 'load_GFS_datasets' object has no attribute 'fpath'"
     ]
    }
   ],
   "source": [
    "for i, F in enumerate(F_lst):\n",
    "    start_time = pd.Timestamp.today()\n",
    "    #######################\n",
    "    ### LOAD MODEL DATA ###\n",
    "    #######################\n",
    "    print('... Loading {0} data for {1} hour lead'.format(model_name, F))\n",
    "    if model_name == 'ECMWF':\n",
    "        s = load_ECMWF_datasets(F=F, fdate='2024073000')\n",
    "        model_data= s.calc_vars()\n",
    "\n",
    "    elif model_name == 'GFS':\n",
    "        s = load_GFS_datasets(F=F, fdate='2024072212')\n",
    "        model_data= s.calc_vars()\n",
    "        \n",
    "    ## SECOND LOOP - LOOP THROUGH LONGITUDE FOR CROSS SECTION ##\n",
    "    for k, current_line in enumerate(line_lst):\n",
    "        ## subset vertical data and IVT data to current line\n",
    "        if model_name == 'ECMWF':\n",
    "            cross = model_data.sel(latitude = slice(current_line[2]+0.1, current_line[0]-0.1))\n",
    "            cross = cross.sel(longitude=current_line[1], method='nearest')\n",
    "        elif model_name == 'GFS':\n",
    "            cross = model_data.sel(latitude = slice(current_line[2], current_line[0]), longitude=current_line[1])\n",
    "\n",
    "        cross = cross.sortby('latitude')\n",
    "        \n",
    "        ### Create Plots\n",
    "        print('...... Creating figure for {0}'.format(current_line[1]))\n",
    "        plot_ivt_cross_sections(model_data, cross, line_lst, current_line, model_name, F)\n",
    "    end_time = pd.Timestamp.today()\n",
    "    td = start_time - end_time\n",
    "    td = format_timedelta_to_HHMMSS(td)\n",
    "    print('Plots for {0} lead took {1} to run'.format(F, td))"
   ]
  },
  {
   "cell_type": "code",
   "execution_count": null,
   "id": "cbb34b99-64b1-404e-ad62-71cb7813ca87",
   "metadata": {},
   "outputs": [],
   "source": []
  }
 ],
 "metadata": {
  "kernelspec": {
   "display_name": "Python (SEAK-impacts)",
   "language": "python",
   "name": "seak-impacts"
  },
  "language_info": {
   "codemirror_mode": {
    "name": "ipython",
    "version": 3
   },
   "file_extension": ".py",
   "mimetype": "text/x-python",
   "name": "python",
   "nbconvert_exporter": "python",
   "pygments_lexer": "ipython3",
   "version": "3.12.0"
  }
 },
 "nbformat": 4,
 "nbformat_minor": 5
}
