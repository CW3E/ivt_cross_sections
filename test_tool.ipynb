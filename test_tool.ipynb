{
 "cells": [
  {
   "cell_type": "code",
   "execution_count": 1,
   "id": "4c2eda22-96f7-4d99-a366-34d45eddc23b",
   "metadata": {},
   "outputs": [
    {
     "name": "stderr",
     "output_type": "stream",
     "text": [
      "ERROR 1: PROJ: proj_create_from_database: Open of /home/dnash/miniconda3/envs/SEAK-impacts/share/proj failed\n"
     ]
    },
    {
     "name": "stdout",
     "output_type": "stream",
     "text": [
      "Creating ivt cross sections for GFS\n"
     ]
    }
   ],
   "source": [
    "import os\n",
    "import sys\n",
    "import numpy as np\n",
    "\n",
    "from read_deterministic_data import load_GFS_datasets, load_ECMWF_datasets\n",
    "from plotter import plot_ivt_cross_sections\n",
    "\n",
    "model_name = 'GFS' ## GFS or ECMWF\n",
    "print('Creating ivt cross sections for {0}'.format(model_name))\n",
    "\n",
    "## FIRST LOOP - LEAD TIME ##\n",
    "F_lst = np.arange(0, 132, 12)\n",
    "\n",
    "## create list that has the start and end points for the cross section\n",
    "lon_lst = np.arange(185., 260., 5.)\n",
    "line_lst = []\n",
    "for i, lon in enumerate(lon_lst):\n",
    "    ## create list of lines where [start_lat, start_lon, end_lat, end_lon]\n",
    "    line = [25., lon, 65., lon]\n",
    "    line_lst.append(line)\n",
    "\n"
   ]
  },
  {
   "cell_type": "code",
   "execution_count": 2,
   "id": "4a854169-1d26-4243-b82b-5f504d36e711",
   "metadata": {},
   "outputs": [
    {
     "name": "stdout",
     "output_type": "stream",
     "text": [
      "... Loading GFS data for 6 hour lead\n"
     ]
    },
    {
     "name": "stderr",
     "output_type": "stream",
     "text": [
      "/home/dnash/miniconda3/envs/SEAK-impacts/lib/python3.12/site-packages/xarray/backends/plugins.py:80: RuntimeWarning: Engine 'gini' loading failed:\n",
      "Struct() takes at most 1 argument (3 given)\n",
      "  warnings.warn(f\"Engine {name!r} loading failed:\\n{ex}\", RuntimeWarning)\n"
     ]
    },
    {
     "name": "stdout",
     "output_type": "stream",
     "text": [
      "...... Creating figure for 185.0\n"
     ]
    },
    {
     "name": "stderr",
     "output_type": "stream",
     "text": [
      "/home/dnash/miniconda3/envs/SEAK-impacts/lib/python3.12/site-packages/matplotlib/ticker.py:2920: RuntimeWarning: invalid value encountered in log10\n",
      "  majorstep_no_exponent = 10 ** (np.log10(majorstep) % 1)\n",
      "/home/dnash/miniconda3/envs/SEAK-impacts/lib/python3.12/site-packages/matplotlib/ticker.py:2920: RuntimeWarning: invalid value encountered in log10\n",
      "  majorstep_no_exponent = 10 ** (np.log10(majorstep) % 1)\n"
     ]
    },
    {
     "name": "stdout",
     "output_type": "stream",
     "text": [
      "...... Creating figure for 190.0\n"
     ]
    },
    {
     "name": "stderr",
     "output_type": "stream",
     "text": [
      "/home/dnash/miniconda3/envs/SEAK-impacts/lib/python3.12/site-packages/matplotlib/ticker.py:2920: RuntimeWarning: invalid value encountered in log10\n",
      "  majorstep_no_exponent = 10 ** (np.log10(majorstep) % 1)\n",
      "/home/dnash/miniconda3/envs/SEAK-impacts/lib/python3.12/site-packages/matplotlib/ticker.py:2920: RuntimeWarning: invalid value encountered in log10\n",
      "  majorstep_no_exponent = 10 ** (np.log10(majorstep) % 1)\n"
     ]
    },
    {
     "name": "stdout",
     "output_type": "stream",
     "text": [
      "...... Creating figure for 195.0\n"
     ]
    },
    {
     "name": "stderr",
     "output_type": "stream",
     "text": [
      "/home/dnash/miniconda3/envs/SEAK-impacts/lib/python3.12/site-packages/matplotlib/ticker.py:2920: RuntimeWarning: invalid value encountered in log10\n",
      "  majorstep_no_exponent = 10 ** (np.log10(majorstep) % 1)\n",
      "/home/dnash/miniconda3/envs/SEAK-impacts/lib/python3.12/site-packages/matplotlib/ticker.py:2920: RuntimeWarning: invalid value encountered in log10\n",
      "  majorstep_no_exponent = 10 ** (np.log10(majorstep) % 1)\n"
     ]
    },
    {
     "name": "stdout",
     "output_type": "stream",
     "text": [
      "...... Creating figure for 200.0\n"
     ]
    },
    {
     "name": "stderr",
     "output_type": "stream",
     "text": [
      "/home/dnash/miniconda3/envs/SEAK-impacts/lib/python3.12/site-packages/matplotlib/ticker.py:2920: RuntimeWarning: invalid value encountered in log10\n",
      "  majorstep_no_exponent = 10 ** (np.log10(majorstep) % 1)\n",
      "/home/dnash/miniconda3/envs/SEAK-impacts/lib/python3.12/site-packages/matplotlib/ticker.py:2920: RuntimeWarning: invalid value encountered in log10\n",
      "  majorstep_no_exponent = 10 ** (np.log10(majorstep) % 1)\n"
     ]
    },
    {
     "name": "stdout",
     "output_type": "stream",
     "text": [
      "...... Creating figure for 205.0\n"
     ]
    },
    {
     "name": "stderr",
     "output_type": "stream",
     "text": [
      "/home/dnash/miniconda3/envs/SEAK-impacts/lib/python3.12/site-packages/matplotlib/ticker.py:2920: RuntimeWarning: invalid value encountered in log10\n",
      "  majorstep_no_exponent = 10 ** (np.log10(majorstep) % 1)\n",
      "/home/dnash/miniconda3/envs/SEAK-impacts/lib/python3.12/site-packages/matplotlib/ticker.py:2920: RuntimeWarning: invalid value encountered in log10\n",
      "  majorstep_no_exponent = 10 ** (np.log10(majorstep) % 1)\n"
     ]
    },
    {
     "name": "stdout",
     "output_type": "stream",
     "text": [
      "...... Creating figure for 210.0\n"
     ]
    },
    {
     "name": "stderr",
     "output_type": "stream",
     "text": [
      "/home/dnash/miniconda3/envs/SEAK-impacts/lib/python3.12/site-packages/matplotlib/ticker.py:2920: RuntimeWarning: invalid value encountered in log10\n",
      "  majorstep_no_exponent = 10 ** (np.log10(majorstep) % 1)\n",
      "/home/dnash/miniconda3/envs/SEAK-impacts/lib/python3.12/site-packages/matplotlib/ticker.py:2920: RuntimeWarning: invalid value encountered in log10\n",
      "  majorstep_no_exponent = 10 ** (np.log10(majorstep) % 1)\n"
     ]
    },
    {
     "name": "stdout",
     "output_type": "stream",
     "text": [
      "...... Creating figure for 215.0\n"
     ]
    },
    {
     "name": "stderr",
     "output_type": "stream",
     "text": [
      "/home/dnash/miniconda3/envs/SEAK-impacts/lib/python3.12/site-packages/matplotlib/ticker.py:2920: RuntimeWarning: invalid value encountered in log10\n",
      "  majorstep_no_exponent = 10 ** (np.log10(majorstep) % 1)\n",
      "/home/dnash/miniconda3/envs/SEAK-impacts/lib/python3.12/site-packages/matplotlib/ticker.py:2920: RuntimeWarning: invalid value encountered in log10\n",
      "  majorstep_no_exponent = 10 ** (np.log10(majorstep) % 1)\n"
     ]
    },
    {
     "name": "stdout",
     "output_type": "stream",
     "text": [
      "...... Creating figure for 220.0\n"
     ]
    },
    {
     "name": "stderr",
     "output_type": "stream",
     "text": [
      "/home/dnash/miniconda3/envs/SEAK-impacts/lib/python3.12/site-packages/matplotlib/ticker.py:2920: RuntimeWarning: invalid value encountered in log10\n",
      "  majorstep_no_exponent = 10 ** (np.log10(majorstep) % 1)\n",
      "/home/dnash/miniconda3/envs/SEAK-impacts/lib/python3.12/site-packages/matplotlib/ticker.py:2920: RuntimeWarning: invalid value encountered in log10\n",
      "  majorstep_no_exponent = 10 ** (np.log10(majorstep) % 1)\n"
     ]
    },
    {
     "name": "stdout",
     "output_type": "stream",
     "text": [
      "...... Creating figure for 225.0\n"
     ]
    },
    {
     "name": "stderr",
     "output_type": "stream",
     "text": [
      "/home/dnash/miniconda3/envs/SEAK-impacts/lib/python3.12/site-packages/matplotlib/ticker.py:2920: RuntimeWarning: invalid value encountered in log10\n",
      "  majorstep_no_exponent = 10 ** (np.log10(majorstep) % 1)\n",
      "/home/dnash/miniconda3/envs/SEAK-impacts/lib/python3.12/site-packages/matplotlib/ticker.py:2920: RuntimeWarning: invalid value encountered in log10\n",
      "  majorstep_no_exponent = 10 ** (np.log10(majorstep) % 1)\n"
     ]
    },
    {
     "name": "stdout",
     "output_type": "stream",
     "text": [
      "...... Creating figure for 230.0\n"
     ]
    },
    {
     "name": "stderr",
     "output_type": "stream",
     "text": [
      "/home/dnash/miniconda3/envs/SEAK-impacts/lib/python3.12/site-packages/matplotlib/ticker.py:2920: RuntimeWarning: invalid value encountered in log10\n",
      "  majorstep_no_exponent = 10 ** (np.log10(majorstep) % 1)\n",
      "/home/dnash/miniconda3/envs/SEAK-impacts/lib/python3.12/site-packages/matplotlib/ticker.py:2920: RuntimeWarning: invalid value encountered in log10\n",
      "  majorstep_no_exponent = 10 ** (np.log10(majorstep) % 1)\n"
     ]
    },
    {
     "name": "stdout",
     "output_type": "stream",
     "text": [
      "...... Creating figure for 235.0\n"
     ]
    },
    {
     "name": "stderr",
     "output_type": "stream",
     "text": [
      "/home/dnash/miniconda3/envs/SEAK-impacts/lib/python3.12/site-packages/matplotlib/ticker.py:2920: RuntimeWarning: invalid value encountered in log10\n",
      "  majorstep_no_exponent = 10 ** (np.log10(majorstep) % 1)\n",
      "/home/dnash/miniconda3/envs/SEAK-impacts/lib/python3.12/site-packages/matplotlib/ticker.py:2920: RuntimeWarning: invalid value encountered in log10\n",
      "  majorstep_no_exponent = 10 ** (np.log10(majorstep) % 1)\n"
     ]
    },
    {
     "name": "stdout",
     "output_type": "stream",
     "text": [
      "...... Creating figure for 240.0\n"
     ]
    },
    {
     "name": "stderr",
     "output_type": "stream",
     "text": [
      "/home/dnash/miniconda3/envs/SEAK-impacts/lib/python3.12/site-packages/matplotlib/ticker.py:2920: RuntimeWarning: invalid value encountered in log10\n",
      "  majorstep_no_exponent = 10 ** (np.log10(majorstep) % 1)\n",
      "/home/dnash/miniconda3/envs/SEAK-impacts/lib/python3.12/site-packages/matplotlib/ticker.py:2920: RuntimeWarning: invalid value encountered in log10\n",
      "  majorstep_no_exponent = 10 ** (np.log10(majorstep) % 1)\n"
     ]
    },
    {
     "name": "stdout",
     "output_type": "stream",
     "text": [
      "...... Creating figure for 245.0\n"
     ]
    },
    {
     "name": "stderr",
     "output_type": "stream",
     "text": [
      "/home/dnash/miniconda3/envs/SEAK-impacts/lib/python3.12/site-packages/matplotlib/ticker.py:2920: RuntimeWarning: invalid value encountered in log10\n",
      "  majorstep_no_exponent = 10 ** (np.log10(majorstep) % 1)\n",
      "/home/dnash/miniconda3/envs/SEAK-impacts/lib/python3.12/site-packages/matplotlib/ticker.py:2920: RuntimeWarning: invalid value encountered in log10\n",
      "  majorstep_no_exponent = 10 ** (np.log10(majorstep) % 1)\n"
     ]
    },
    {
     "name": "stdout",
     "output_type": "stream",
     "text": [
      "...... Creating figure for 250.0\n"
     ]
    },
    {
     "name": "stderr",
     "output_type": "stream",
     "text": [
      "/home/dnash/miniconda3/envs/SEAK-impacts/lib/python3.12/site-packages/matplotlib/ticker.py:2920: RuntimeWarning: invalid value encountered in log10\n",
      "  majorstep_no_exponent = 10 ** (np.log10(majorstep) % 1)\n",
      "/home/dnash/miniconda3/envs/SEAK-impacts/lib/python3.12/site-packages/matplotlib/ticker.py:2920: RuntimeWarning: invalid value encountered in log10\n",
      "  majorstep_no_exponent = 10 ** (np.log10(majorstep) % 1)\n"
     ]
    },
    {
     "name": "stdout",
     "output_type": "stream",
     "text": [
      "...... Creating figure for 255.0\n"
     ]
    },
    {
     "name": "stderr",
     "output_type": "stream",
     "text": [
      "/home/dnash/miniconda3/envs/SEAK-impacts/lib/python3.12/site-packages/matplotlib/ticker.py:2920: RuntimeWarning: invalid value encountered in log10\n",
      "  majorstep_no_exponent = 10 ** (np.log10(majorstep) % 1)\n",
      "/home/dnash/miniconda3/envs/SEAK-impacts/lib/python3.12/site-packages/matplotlib/ticker.py:2920: RuntimeWarning: invalid value encountered in log10\n",
      "  majorstep_no_exponent = 10 ** (np.log10(majorstep) % 1)\n"
     ]
    }
   ],
   "source": [
    "for i, F in enumerate(F_lst):\n",
    "\n",
    "    #######################\n",
    "    ### LOAD MODEL DATA ###\n",
    "    #######################\n",
    "    print('... Loading {0} data for {1} hour lead'.format(model_name, F))\n",
    "    if model_name == 'ECMWF':\n",
    "        s = load_ECMWF_datasets(F=F, fdate='2024073000')\n",
    "        model_data= s.calc_vars()\n",
    "\n",
    "    elif model_name == 'GFS':\n",
    "        s = load_GFS_datasets(F=F, fdate='2024072212')\n",
    "        model_data= s.calc_vars()\n",
    "        \n",
    "    ## SECOND LOOP - LOOP THROUGH LONGITUDE FOR CROSS SECTION ##\n",
    "    for k, current_line in enumerate(line_lst):\n",
    "        ## subset vertical data and IVT data to current line\n",
    "        if model_name == 'ECMWF':\n",
    "            cross = model_data.sel(latitude = slice(current_line[2]+0.1, current_line[0]-0.1))\n",
    "            cross = cross.sel(longitude=current_line[1], method='nearest')\n",
    "        elif model_name == 'GFS':\n",
    "            cross = model_data.sel(latitude = slice(current_line[2], current_line[0]), longitude=current_line[1])\n",
    "\n",
    "        cross = cross.sortby('latitude')\n",
    "        \n",
    "        ### Create Plots\n",
    "        print('...... Creating figure for {0}'.format(current_line[1]))\n",
    "        plot_ivt_cross_sections(model_data, cross, line_lst, current_line, model_name, F)"
   ]
  },
  {
   "cell_type": "code",
   "execution_count": null,
   "id": "cbb34b99-64b1-404e-ad62-71cb7813ca87",
   "metadata": {},
   "outputs": [],
   "source": []
  }
 ],
 "metadata": {
  "kernelspec": {
   "display_name": "Python (SEAK-impacts)",
   "language": "python",
   "name": "seak-impacts"
  },
  "language_info": {
   "codemirror_mode": {
    "name": "ipython",
    "version": 3
   },
   "file_extension": ".py",
   "mimetype": "text/x-python",
   "name": "python",
   "nbconvert_exporter": "python",
   "pygments_lexer": "ipython3",
   "version": "3.12.0"
  }
 },
 "nbformat": 4,
 "nbformat_minor": 5
}
